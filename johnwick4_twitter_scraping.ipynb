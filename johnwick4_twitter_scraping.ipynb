{
 "cells": [
  {
   "cell_type": "code",
   "execution_count": 5,
   "id": "0f550271-83ad-4052-966e-84333259aaeb",
   "metadata": {},
   "outputs": [],
   "source": [
    "import snscrape.modules.twitter as snt\n",
    "import csv\n",
    "import pandas as pd\n",
    "from tqdm import tqdm"
   ]
  },
  {
   "cell_type": "code",
   "execution_count": 6,
   "id": "e07a7748-adf4-4dde-95e8-129f1aa53006",
   "metadata": {},
   "outputs": [
    {
     "data": {
      "text/plain": [
       "<generator object TwitterSearchScraper.get_items at 0x7f6cf17421f0>"
      ]
     },
     "execution_count": 6,
     "metadata": {},
     "output_type": "execute_result"
    }
   ],
   "source": [
    "johnwick4_scraper = snt.TwitterSearchScraper(\"johnwick4 OR john wick 4 OR #johnwick4 OR john wick lang:en since:2023-03-25 until:2023-03-27\")\n",
    "johnwick4_scraper.get_items()"
   ]
  },
  {
   "cell_type": "code",
   "execution_count": 7,
   "id": "086b862d-3961-4016-ab71-cc86e5313d15",
   "metadata": {},
   "outputs": [],
   "source": [
    "#Creating Header\n",
    "\n",
    "with open('tweets_johnwick4.csv','a', newline='', encoding='utf-8') as csvFile:\n",
    "    csv_writer = csv.writer(csvFile, delimiter=',') # create an instance of csv object\n",
    "    csv_writer.writerow([\"id\",\"date\",\"tweet\",\"location\",\"retweets\",\"likes\",\"views\",\"media\"]) # write each row"
   ]
  },
  {
   "cell_type": "code",
   "execution_count": 8,
   "id": "e09b3f0a-14aa-428b-8722-24555603d5e4",
   "metadata": {},
   "outputs": [
    {
     "name": "stderr",
     "output_type": "stream",
     "text": [
      " 16%|█▌        | 47522/300000 [35:08<3:06:43, 22.54it/s] "
     ]
    },
    {
     "name": "stdout",
     "output_type": "stream",
     "text": [
      "Done\n"
     ]
    },
    {
     "name": "stderr",
     "output_type": "stream",
     "text": [
      "\n"
     ]
    }
   ],
   "source": [
    "tweets_to_scrape=300_000\n",
    "\n",
    "with open('tweets_johnwick4.csv','a', newline='', encoding='utf-8') as csvFile:\n",
    "    csv_writer = csv.writer(csvFile, delimiter=',')\n",
    "    \n",
    "    for i,tweeet in tqdm(enumerate(johnwick4_scraper.get_items()),initial=1,total=tweets_to_scrape):\n",
    "        if i>tweets_to_scrape:\n",
    "            break\n",
    "\n",
    "        csv_writer.writerow([tweeet.id,tweeet.date,tweeet.rawContent,tweeet.user.location,tweeet.retweetCount,tweeet.likeCount,tweeet.viewCount,tweeet.media]) # write each row\n",
    "\n",
    "print(\"Done\")"
   ]
  },
  {
   "cell_type": "code",
   "execution_count": null,
   "id": "281d6df5-ede2-40e1-97ad-a5505998bfa6",
   "metadata": {},
   "outputs": [],
   "source": []
  },
  {
   "cell_type": "code",
   "execution_count": 9,
   "id": "e33fc87e-bebf-4cf4-82cb-18e456899adc",
   "metadata": {},
   "outputs": [],
   "source": [
    "#!snscrape --jsonl --progress --max-results 50 twitter-search \"johnwick4 OR john wick 4 OR #johnwick4 lang:en since:2023-03-25\" > text-query-tweets.csv\n"
   ]
  },
  {
   "cell_type": "code",
   "execution_count": null,
   "id": "ee8625e3-27fa-4592-b731-cd93eddeec3f",
   "metadata": {},
   "outputs": [],
   "source": []
  }
 ],
 "metadata": {
  "kernelspec": {
   "display_name": "Python 3 (ipykernel)",
   "language": "python",
   "name": "python3"
  },
  "language_info": {
   "codemirror_mode": {
    "name": "ipython",
    "version": 3
   },
   "file_extension": ".py",
   "mimetype": "text/x-python",
   "name": "python",
   "nbconvert_exporter": "python",
   "pygments_lexer": "ipython3",
   "version": "3.10.6"
  }
 },
 "nbformat": 4,
 "nbformat_minor": 5
}
